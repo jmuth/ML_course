{
 "cells": [
  {
   "cell_type": "code",
   "execution_count": 1,
   "metadata": {
    "collapsed": false
   },
   "outputs": [],
   "source": [
    "%matplotlib inline\n",
    "import numpy as np\n",
    "import matplotlib.pyplot as plt\n",
    "%load_ext autoreload\n",
    "%autoreload 2"
   ]
  },
  {
   "cell_type": "markdown",
   "metadata": {},
   "source": [
    "Data Generation\n",
    "==="
   ]
  },
  {
   "cell_type": "code",
   "execution_count": 2,
   "metadata": {
    "collapsed": false
   },
   "outputs": [],
   "source": [
    "from numpy.random import rand, randn"
   ]
  },
  {
   "cell_type": "code",
   "execution_count": 3,
   "metadata": {
    "collapsed": true
   },
   "outputs": [],
   "source": [
    "n, d, k = 100, 2, 2"
   ]
  },
  {
   "cell_type": "code",
   "execution_count": 8,
   "metadata": {
    "collapsed": false
   },
   "outputs": [
    {
     "name": "stdout",
     "output_type": "stream",
     "text": [
      "[array([ 0.69872366,  0.75176984]), array([ 0.25997411,  0.14504062])]\n",
      "[array([[ 0.01764816,  0.        ],\n",
      "       [ 0.        ,  0.06360523]]), array([[ 0.01764816,  0.        ],\n",
      "       [ 0.        ,  0.06360523]])]\n",
      "[ 0.69872366  0.75176984]\n",
      "[[ 0.01764816  0.        ]\n",
      " [ 0.          0.06360523]]\n"
     ]
    }
   ],
   "source": [
    "np.random.seed(20)\n",
    "X = rand(n, d)\n",
    "\n",
    "# means = [rand(d)  for _ in range(k)]  # works for any k\n",
    "means = [rand(d) * 0.5 + 0.5 , - rand(d)  * 0.5 + 0.5]  # for better plotting when k = 2\n",
    "\n",
    "S = np.diag(rand(d))\n",
    "\n",
    "sigmas = [S]*k # we'll use the same Sigma for all clusters for better visual results\n",
    "\n",
    "print(means)\n",
    "print(sigmas)\n",
    "print(means[0])\n",
    "print(sigmas[0])\n",
    "#print(X)"
   ]
  },
  {
   "cell_type": "markdown",
   "metadata": {},
   "source": [
    "Solution\n",
    "==="
   ]
  },
  {
   "cell_type": "code",
   "execution_count": 25,
   "metadata": {
    "collapsed": false
   },
   "outputs": [
    {
     "name": "stdout",
     "output_type": "stream",
     "text": [
      "[[ 0.01764816  0.        ]\n",
      " [ 0.          0.06360523]]\n",
      "[[ 56.66312761   0.        ]\n",
      " [  0.          15.72197649]]\n",
      "[ 0.  0.  0.  0.  0.  0.  0.  0.  0.  0.  0.  0.  0.  0.  0.  0.  0.  0.\n",
      "  0.  0.  0.  0.  0.  0.  0.  0.  0.  0.  0.  0.  0.  0.  0.  0.  0.  0.\n",
      "  0.  0.  0.  0.  0.  0.  0.  0.  0.  0.  0.  0.  0.  0.  0.  0.  0.  0.\n",
      "  0.  0.  0.  0.  0.  0.  0.  0.  0.  0.  0.  0.  0.  0.  0.  0.  0.  0.\n",
      "  0.  0.  0.  0.  0.  0.  0.  0.  0.  0.  0.  0.  0.  0.  0.  0.  0.  0.\n",
      "  0.  0.  0.  0.  0.  0.  0.  0.  0.  0.]\n"
     ]
    }
   ],
   "source": [
    "#test\n",
    "\n",
    "sigma = sigmas[0]\n",
    "print(sigma)\n",
    "inv = np.linalg.inv(sigma)\n",
    "print(inv)\n",
    "\n",
    "X.shape[1]\n",
    "result = np.zeros(X.shape[0])\n",
    "print(result)"
   ]
  },
  {
   "cell_type": "code",
   "execution_count": 46,
   "metadata": {
    "collapsed": false,
    "scrolled": true
   },
   "outputs": [],
   "source": [
    "def compute_log_p(X, mean, sigma):\n",
    "    ''' fill your code in here...\n",
    "    '''\n",
    "    result = np.copy(X)\n",
    "    def compute(x, mean, sigma):\n",
    "        # exponential left part\n",
    "        diff = x - mean\n",
    "        diff_transpose = np.matrix.transpose(diff)\n",
    "        sigma_inv = np.linalg.inv(sigma)\n",
    "        exp = 0.5 * np.dot(np.dot(diff_transpose, sigma_inv), diff)\n",
    "        exp = np.exp(exp)\n",
    "\n",
    "        # fractional right part\n",
    "        sigma_det = np.linalg.det(sigma)\n",
    "        inv = np.power(2 * np.pi, X.shape[1] * 0.5) * np.power(sigma_det, 0.5)\n",
    "        inv = 1 / inv\n",
    "        x = (inv*exp)\n",
    "        return x\n",
    "    \n",
    "    result = [compute(x, mean, sigma) for x in X]\n",
    "\n",
    "    return result\n",
    "    "
   ]
  },
  {
   "cell_type": "code",
   "execution_count": 86,
   "metadata": {
    "collapsed": false
   },
   "outputs": [
    {
     "name": "stdout",
     "output_type": "stream",
     "text": [
      "[[7.9420205940676851, 14.065075621256824, 1244158.7971712525, 132.6687484434002, 57.525928719064488, 827.32249847825142, 6.2702457712128554, 312.3205646104235, 69967.34697909659, 13118.017606249809, 13.220805473998277, 106.82047120373606, 9.319178403371092, 5.7413113822238291, 39.065996829250615, 5.2014940375414325, 35510.23368253329, 9.820280901580988, 359.15476888965605, 4685.3533673826814, 7.3993299584587033, 775.77224901756961, 1462.3816304156871, 20263.968620748205, 121.80461994863462, 12.423543768288351, 5.8170602758814738, 7.2016953300096622, 5.3570913439525656, 61.382122271569862, 794.84343892227866, 5.4538179176270738, 11.104236392566204, 446.87682320105773, 278.4008336657779, 7.2375866182681134, 15.404253028604641, 168.45559287629894, 11.676692271215563, 1064.5297820496862, 785484.52625681669, 6499.7371849072551, 3183.3171823449848, 99.372125787725395, 2247258.6419769842, 5.5250326493588373, 27844912.602728169, 21.03250297797528, 25.278965870055195, 13.026191222490802, 21.508378318791596, 311.64605304241348, 69.297560122545235, 294.46121022727414, 106.21576632897943, 59.001273426189208, 33.940569032171531, 695.86209957623828, 22.798066363071165, 208023.60365132152, 4456.5959511834662, 3803.190876175935, 7.898314691772482, 22.36126065277406, 63.427478932864425, 4.7770008236856585, 14.252200551634909, 27.002009664595711, 1300.3194538723858, 676.45206909237936, 421770.69645816821, 6.0557838305929632, 88.996165703213777, 101624.0235344059, 19.585334319962893, 101.51672061913244, 85.545086559138269, 7.2068763477481914, 8.195269914952668, 77399.48811042009, 350.95660018044805, 6.7115481326769464, 6.2282921377665259, 7.1953684157303828, 10.413712374046163, 2048.9927801101826, 48.863204271287799, 49.415495207197715, 4.7721995296276845, 41.515321403753113, 46.889906266057707, 7590.8275809249408, 21.916826457103106, 20944.298127881611, 4.959337980117116, 16.397275467603439, 81.490174144517084, 1015352.1449205503, 11.631483685769854, 7.9527924290965633], [8625.9673916078027, 13201556.391462011, 206.54060981241136, 21.197744053152931, 430.20627159163587, 63.346269423024346, 550665.49977322377, 9630.4787929856393, 152.77502721621454, 5.286374350782693, 19166870.309477225, 63.193542716121598, 19607.686570903032, 10454.544263763715, 39.748563700750552, 5183.2278671549566, 4.9923045396877184, 19091.557075878849, 15.560559763121757, 5.8933922355460666, 819.47426536561136, 8.5510860339123997, 21.346990207220014, 31.375948544456897, 41381.400124569467, 4810.8976348465594, 294893.80585499638, 58233.026245884525, 3538.4518537669564, 30.065202211737763, 27.091885660716638, 8305.1134163096394, 20584.177404435195, 8.4534025694746262, 59.783843585256506, 35932.18386796557, 26115236.185621742, 67.356157390582766, 287.87370321766696, 25.619036467116281, 183.3278875855741, 4.9793613266301504, 5.5261509443877515, 1037723.3744351048, 9.2269677067911768, 219721.7191310332, 19.879901543634872, 1106178.3199416446, 5734206.7827609079, 15189.374015014742, 64359.499290347165, 11.476300892744813, 373.38781527247897, 10.266348613631029, 17.488359220675402, 478.84783387111122, 2233.6205426197189, 5661427.1238767905, 32089.879657401842, 168.98576483346525, 26053872.398144785, 10.609997663523048, 1431161.5267678141, 4359537.6911457786, 24.791686661744055, 14102.522086363173, 4419.2846530273773, 78274908.467475101, 31.719401015290188, 90004.623138017065, 3331.3542378629254, 219674.9538688733, 168487.74465425283, 155.14810315378443, 343.61989144860297, 23.108571607098046, 66.447924536658974, 626924.13713927777, 1857.3215771319726, 21.340529451114968, 9.8667275861216446, 14952.940263355098, 2258.5928228966259, 64507.479462592295, 3627996.409080653, 5.8055578906512872, 13556008.210137151, 65.20696647343668, 18793.899911359797, 2030.4716015714723, 48.918549320442011, 1338.454589809689, 186.60862524230731, 96.720699953751478, 7005.4645291498427, 18097646.943978138, 917.66891705289765, 508.52534882021314, 211400.07322447354, 50376.468405433712]]\n"
     ]
    }
   ],
   "source": [
    "log_ps = [compute_log_p(X, m, s) for m, s in zip(means, sigmas)]  # exercise: try to do this without looping\n",
    "print(log_ps)\n"
   ]
  },
  {
   "cell_type": "code",
   "execution_count": 78,
   "metadata": {
    "collapsed": false
   },
   "outputs": [
    {
     "data": {
      "text/plain": [
       "array([0, 1, 0, 1, 0, 1, 0, 1, 0, 1, 0, 1, 0, 1, 0, 1, 0, 1, 0, 1, 0, 1, 0,\n",
       "       1, 0, 1, 0, 1, 0, 1, 0, 1, 0, 1, 0, 1, 0, 1, 0, 1, 0, 1, 0, 1, 0, 1,\n",
       "       0, 1, 0, 1, 0, 1, 0, 1, 0, 1, 0, 1, 0, 1, 0, 1, 0, 1, 0, 1, 0, 1, 0,\n",
       "       1, 0, 1, 0, 1, 0, 1, 0, 1, 0, 1, 0, 1, 0, 1, 0, 1, 0, 1, 0, 1, 0, 1,\n",
       "       0, 1, 0, 1, 0, 1, 0, 1, 0, 1, 0, 1, 0, 1, 0, 1, 0, 1, 0, 1, 0, 1, 0,\n",
       "       1, 0, 1, 0, 1, 0, 1, 0, 1, 0, 1, 0, 1, 0, 1, 0, 1, 0, 1, 0, 1, 0, 1,\n",
       "       0, 1, 0, 1, 0, 1, 0, 1, 0, 1, 0, 1, 0, 1, 0, 1, 0, 1, 0, 1, 0, 1, 0,\n",
       "       1, 0, 1, 0, 1, 0, 1, 0, 1, 0, 1, 0, 1, 0, 1, 0, 1, 0, 1, 0, 1, 0, 1,\n",
       "       0, 1, 0, 1, 0, 1, 0, 1, 0, 1, 0, 1, 0, 1, 0, 1])"
      ]
     },
     "execution_count": 78,
     "metadata": {},
     "output_type": "execute_result"
    }
   ],
   "source": [
    "means[1]\n",
    "cols.ravel()"
   ]
  },
  {
   "cell_type": "markdown",
   "metadata": {},
   "source": []
  },
  {
   "cell_type": "code",
   "execution_count": 85,
   "metadata": {
    "collapsed": false
   },
   "outputs": [
    {
     "name": "stdout",
     "output_type": "stream",
     "text": [
      "[[ 0.5881308   0.89771373]\n",
      " [ 0.5881308   0.89771373]\n",
      " [ 0.89153073  0.81583748]\n",
      " [ 0.89153073  0.81583748]\n",
      " [ 0.03588959  0.69175758]\n",
      " [ 0.03588959  0.69175758]\n",
      " [ 0.37868094  0.51851095]\n",
      " [ 0.37868094  0.51851095]\n",
      " [ 0.65795147  0.19385022]\n",
      " [ 0.65795147  0.19385022]\n",
      " [ 0.2723164   0.71860593]\n",
      " [ 0.2723164   0.71860593]\n",
      " [ 0.78300361  0.85032764]\n",
      " [ 0.78300361  0.85032764]\n",
      " [ 0.77524489  0.03666431]\n",
      " [ 0.77524489  0.03666431]\n",
      " [ 0.11669374  0.7512807 ]\n",
      " [ 0.11669374  0.7512807 ]\n",
      " [ 0.23921822  0.25480601]\n",
      " [ 0.23921822  0.25480601]\n",
      " [ 0.85762553  0.94977903]\n",
      " [ 0.85762553  0.94977903]\n",
      " [ 0.56168686  0.17878052]\n",
      " [ 0.56168686  0.17878052]\n",
      " [ 0.77025193  0.49238104]\n",
      " [ 0.77025193  0.49238104]\n",
      " [ 0.63125307  0.83949792]\n",
      " [ 0.63125307  0.83949792]\n",
      " [ 0.4610394   0.49794007]\n",
      " [ 0.4610394   0.49794007]\n",
      " [ 0.67941112  0.65078591]\n",
      " [ 0.67941112  0.65078591]\n",
      " [ 0.26879524  0.06732467]\n",
      " [ 0.26879524  0.06732467]\n",
      " [ 0.77144514  0.48098413]\n",
      " [ 0.77144514  0.48098413]\n",
      " [ 0.32920641  0.51064106]\n",
      " [ 0.32920641  0.51064106]\n",
      " [ 0.26362883  0.31051155]\n",
      " [ 0.26362883  0.31051155]\n",
      " [ 0.62685344  0.55744981]\n",
      " [ 0.62685344  0.55744981]\n",
      " [ 0.31857956  0.39484322]\n",
      " [ 0.31857956  0.39484322]\n",
      " [ 0.25797459  0.58224112]\n",
      " [ 0.25797459  0.58224112]\n",
      " [ 0.16162871  0.59813382]\n",
      " [ 0.16162871  0.59813382]\n",
      " [ 0.82582358  0.15639172]\n",
      " [ 0.82582358  0.15639172]\n",
      " [ 0.73430052  0.40864343]\n",
      " [ 0.73430052  0.40864343]\n",
      " [ 0.7786879   0.80397057]\n",
      " [ 0.7786879   0.80397057]\n",
      " [ 0.78607144  0.59228702]\n",
      " [ 0.78607144  0.59228702]\n",
      " [ 0.6644892   0.64656729]\n",
      " [ 0.6644892   0.64656729]\n",
      " [ 0.42563648  0.51356833]\n",
      " [ 0.42563648  0.51356833]\n",
      " [ 0.50125784  0.03708381]\n",
      " [ 0.50125784  0.03708381]\n",
      " [ 0.7081161   0.6204306 ]\n",
      " [ 0.7081161   0.6204306 ]\n",
      " [ 0.77780853  0.45940947]\n",
      " [ 0.77780853  0.45940947]\n",
      " [ 0.37980555  0.2918922 ]\n",
      " [ 0.37980555  0.2918922 ]\n",
      " [ 0.55722886  0.0841636 ]\n",
      " [ 0.55722886  0.0841636 ]\n",
      " [ 0.63128167  0.94457049]\n",
      " [ 0.63128167  0.94457049]\n",
      " [ 0.89123753  0.87858258]\n",
      " [ 0.89123753  0.87858258]\n",
      " [ 0.34475163  0.70310053]\n",
      " [ 0.34475163  0.70310053]\n",
      " [ 0.5273376   0.65931696]\n",
      " [ 0.5273376   0.65931696]\n",
      " [ 0.26829063  0.60776708]\n",
      " [ 0.26829063  0.60776708]\n",
      " [ 0.04815737  0.69550064]\n",
      " [ 0.04815737  0.69550064]\n",
      " [ 0.29927188  0.16563555]\n",
      " [ 0.29927188  0.16563555]\n",
      " [ 0.33225194  0.16543775]\n",
      " [ 0.33225194  0.16543775]\n",
      " [ 0.91463798  0.28402501]\n",
      " [ 0.91463798  0.28402501]\n",
      " [ 0.10760726  0.11700177]\n",
      " [ 0.10760726  0.11700177]\n",
      " [ 0.7555236   0.83889446]\n",
      " [ 0.7555236   0.83889446]\n",
      " [ 0.03553703  0.12144377]\n",
      " [ 0.03553703  0.12144377]\n",
      " [ 0.89100806  0.51509223]\n",
      " [ 0.89100806  0.51509223]\n",
      " [ 0.92441901  0.58124263]\n",
      " [ 0.92441901  0.58124263]\n",
      " [ 0.77325639  0.42267689]\n",
      " [ 0.77325639  0.42267689]\n",
      " [ 0.82546475  0.38540456]\n",
      " [ 0.82546475  0.38540456]\n",
      " [ 0.35434596  0.42807852]\n",
      " [ 0.35434596  0.42807852]\n",
      " [ 0.39506518  0.84462971]\n",
      " [ 0.39506518  0.84462971]\n",
      " [ 0.37382381  0.37158098]\n",
      " [ 0.37382381  0.37158098]\n",
      " [ 0.41594296  0.42454448]\n",
      " [ 0.41594296  0.42454448]\n",
      " [ 0.66280484  0.18977593]\n",
      " [ 0.66280484  0.18977593]\n",
      " [ 0.72247865  0.25366097]\n",
      " [ 0.72247865  0.25366097]\n",
      " [ 0.96267414  0.13266125]\n",
      " [ 0.96267414  0.13266125]\n",
      " [ 0.8067967   0.35499545]\n",
      " [ 0.8067967   0.35499545]\n",
      " [ 0.0846383   0.73116878]\n",
      " [ 0.0846383   0.73116878]\n",
      " [ 0.99660085  0.00959277]\n",
      " [ 0.99660085  0.00959277]\n",
      " [ 0.23757339  0.46192478]\n",
      " [ 0.23757339  0.46192478]\n",
      " [ 0.76525884  0.97250331]\n",
      " [ 0.76525884  0.97250331]\n",
      " [ 0.915947    0.58744678]\n",
      " [ 0.915947    0.58744678]\n",
      " [ 0.44437533  0.44107594]\n",
      " [ 0.44437533  0.44107594]\n",
      " [ 0.69399137  0.72664097]\n",
      " [ 0.69399137  0.72664097]\n",
      " [ 0.73473276  0.38422053]\n",
      " [ 0.73473276  0.38422053]\n",
      " [ 0.94539591  0.79366926]\n",
      " [ 0.94539591  0.79366926]\n",
      " [ 0.25781467  0.63648694]\n",
      " [ 0.25781467  0.63648694]\n",
      " [ 0.84514052  0.00777515]\n",
      " [ 0.84514052  0.00777515]\n",
      " [ 0.07703627  0.98942514]\n",
      " [ 0.07703627  0.98942514]\n",
      " [ 0.79096501  0.73688738]\n",
      " [ 0.79096501  0.73688738]\n",
      " [ 0.86638985  0.23075412]\n",
      " [ 0.86638985  0.23075412]\n",
      " [ 0.10550225  0.74293527]\n",
      " [ 0.10550225  0.74293527]\n",
      " [ 0.47515634  0.75965283]\n",
      " [ 0.47515634  0.75965283]\n",
      " [ 0.48599313  0.27593379]\n",
      " [ 0.48599313  0.27593379]\n",
      " [ 0.38178337  0.6762014 ]\n",
      " [ 0.38178337  0.6762014 ]\n",
      " [ 0.73647103  0.9706047 ]\n",
      " [ 0.73647103  0.9706047 ]\n",
      " [ 0.68136272  0.490452  ]\n",
      " [ 0.68136272  0.490452  ]\n",
      " [ 0.12840324  0.50383093]\n",
      " [ 0.12840324  0.50383093]\n",
      " [ 0.4096691   0.25559738]\n",
      " [ 0.4096691   0.25559738]\n",
      " [ 0.61806603  0.89501445]\n",
      " [ 0.61806603  0.89501445]\n",
      " [ 0.66750239  0.57585336]\n",
      " [ 0.66750239  0.57585336]\n",
      " [ 0.64872048  0.96107677]\n",
      " [ 0.64872048  0.96107677]\n",
      " [ 0.86436925  0.78272878]\n",
      " [ 0.86436925  0.78272878]\n",
      " [ 0.31110332  0.27191386]\n",
      " [ 0.31110332  0.27191386]\n",
      " [ 0.95738054  0.51644268]\n",
      " [ 0.95738054  0.51644268]\n",
      " [ 0.41742553  0.63886307]\n",
      " [ 0.41742553  0.63886307]\n",
      " [ 0.68952736  0.76848649]\n",
      " [ 0.68952736  0.76848649]\n",
      " [ 0.44285459  0.95131449]\n",
      " [ 0.44285459  0.95131449]\n",
      " [ 0.53279129  0.31356138]\n",
      " [ 0.53279129  0.31356138]\n",
      " [ 0.20352206  0.98534762]\n",
      " [ 0.20352206  0.98534762]\n",
      " [ 0.46783921  0.70292922]\n",
      " [ 0.46783921  0.70292922]\n",
      " [ 0.15460409  0.73099939]\n",
      " [ 0.15460409  0.73099939]\n",
      " [ 0.66058604  0.73642868]\n",
      " [ 0.66058604  0.73642868]\n",
      " [ 0.90668929  0.79331631]\n",
      " [ 0.90668929  0.79331631]\n",
      " [ 0.39496973  0.92215573]\n",
      " [ 0.39496973  0.92215573]\n",
      " [ 0.04094532  0.79434211]\n",
      " [ 0.04094532  0.79434211]\n",
      " [ 0.83797165  0.54192669]\n",
      " [ 0.83797165  0.54192669]\n",
      " [ 0.6303722   0.97248392]\n",
      " [ 0.6303722   0.97248392]]\n"
     ]
    }
   ],
   "source": [
    "# without loop but with indices\n",
    "rows, cols = np.indices((X.shape[0], len(means)))\n",
    "ext_X = X[rows.ravel()]\n",
    "print(ext_X)\n",
    "np_means = np.array(means)\n",
    "ext_means = np_means[cols.ravel()]\n",
    "\n",
    "ext_sigmas = np.array(sigmas)[cols.ravel()]"
   ]
  },
  {
   "cell_type": "code",
   "execution_count": 83,
   "metadata": {
    "collapsed": false
   },
   "outputs": [
    {
     "name": "stdout",
     "output_type": "stream",
     "text": [
      "[1 1 0 0 1 0 1 1 0 0 1 0 1 1 1 1 0 1 0 0 1 0 0 0 1 1 1 1 1 0 0 1 1 0 0 1 1\n",
      " 0 1 0 0 0 0 1 0 1 0 1 1 1 1 0 1 0 0 1 1 1 1 0 1 0 1 1 0 1 1 1 0 1 0 1 1 0\n",
      " 1 0 0 1 1 0 0 1 1 1 1 0 1 1 1 1 1 0 1 0 1 1 1 0 1 1]\n"
     ]
    }
   ],
   "source": [
    "assignments = np.argmax(log_ps, axis=0)\n",
    "print(assignments)"
   ]
  },
  {
   "cell_type": "code",
   "execution_count": 84,
   "metadata": {
    "collapsed": false,
    "scrolled": true
   },
   "outputs": [
    {
     "data": {
      "text/plain": [
       "<matplotlib.collections.PathCollection at 0x10f5bd7b8>"
      ]
     },
     "execution_count": 84,
     "metadata": {},
     "output_type": "execute_result"
    },
    {
     "data": {
      "image/png": "[encoded data removed]",
      "text/plain": [
       "<matplotlib.figure.Figure at 0x10f56cf28>"
      ]
     },
     "metadata": {},
     "output_type": "display_data"
    }
   ],
   "source": [
    "colors = np.array(['red', 'green'])[assignments]\n",
    "plt.scatter(X[:, 0], X[:, 1], c=colors, s=100)\n",
    "plt.scatter(np.array(means)[:, 0], np.array(means)[:, 1], marker='*', s=200)"
   ]
  },
  {
   "cell_type": "code",
   "execution_count": null,
   "metadata": {
    "collapsed": true
   },
   "outputs": [],
   "source": []
  }
 ],
 "metadata": {
  "anaconda-cloud": {},
  "kernelspec": {
   "display_name": "Python [Root]",
   "language": "python",
   "name": "Python [Root]"
  },
  "language_info": {
   "codemirror_mode": {
    "name": "ipython",
    "version": 3
   },
   "file_extension": ".py",
   "mimetype": "text/x-python",
   "name": "python",
   "nbconvert_exporter": "python",
   "pygments_lexer": "ipython3",
   "version": "3.5.2"
  }
 },
 "nbformat": 4,
 "nbformat_minor": 0
}
